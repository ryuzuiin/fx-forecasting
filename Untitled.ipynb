{
 "cells": [
  {
   "cell_type": "code",
   "execution_count": 1,
   "id": "5cd8d4af",
   "metadata": {},
   "outputs": [
    {
     "name": "stdout",
     "output_type": "stream",
     "text": [
      "(array([1, 2, 4]),)\n",
      "(array([1, 2, 4]),)\n"
     ]
    }
   ],
   "source": [
    "import numpy as np\n",
    "\n",
    "# 创建一个NumPy数组\n",
    "arr = np.array([0, 2, 3, 0, 4, 0])\n",
    "\n",
    "# 使用np.nonzero找出非零元素的索引\n",
    "nonzero_indices = np.nonzero(arr)\n",
    "\n",
    "print(nonzero_indices)  # 输出非零元素的索引import numpy as np\n",
    "\n",
    "# 创建一个NumPy数组\n",
    "arr = np.array([0, 2, 3, 0, 4, 0])\n",
    "\n",
    "# 使用np.nonzero找出非零元素的索引\n",
    "nonzero_indices = np.nonzero(arr)\n",
    "\n",
    "print(nonzero_indices)  # 输出非零元素的索引"
   ]
  },
  {
   "cell_type": "code",
   "execution_count": 2,
   "id": "adc04ec4",
   "metadata": {},
   "outputs": [
    {
     "name": "stdout",
     "output_type": "stream",
     "text": [
      "(array([0, 1, 2]), array([0, 1, 2]))\n"
     ]
    }
   ],
   "source": [
    "# 创建一个二维NumPy数组\n",
    "arr_2d = np.array([[1, 0, 0], [0, 2, 0], [0, 0, 3]])\n",
    "\n",
    "# 使用np.nonzero找出非零元素的索引\n",
    "nonzero_indices_2d = np.nonzero(arr_2d)\n",
    "\n",
    "print(nonzero_indices_2d)  # 输出非零元素在每个维度上的索引"
   ]
  },
  {
   "cell_type": "code",
   "execution_count": null,
   "id": "61a9cc37",
   "metadata": {},
   "outputs": [],
   "source": []
  }
 ],
 "metadata": {
  "kernelspec": {
   "display_name": "Python 3 (ipykernel)",
   "language": "python",
   "name": "python3"
  },
  "language_info": {
   "codemirror_mode": {
    "name": "ipython",
    "version": 3
   },
   "file_extension": ".py",
   "mimetype": "text/x-python",
   "name": "python",
   "nbconvert_exporter": "python",
   "pygments_lexer": "ipython3",
   "version": "3.10.9"
  }
 },
 "nbformat": 4,
 "nbformat_minor": 5
}
